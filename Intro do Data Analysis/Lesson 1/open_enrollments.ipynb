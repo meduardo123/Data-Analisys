{
 "cells": [
  {
   "cell_type": "code",
   "execution_count": 3,
   "id": "2996042f",
   "metadata": {},
   "outputs": [
    {
     "data": {
      "text/plain": [
       "{'account_key': '448',\n",
       " 'status': 'canceled',\n",
       " 'join_date': '2014-11-10',\n",
       " 'cancel_date': '2015-01-14',\n",
       " 'days_to_cancel': '65',\n",
       " 'is_udacity': 'True',\n",
       " 'is_canceled': 'True'}"
      ]
     },
     "execution_count": 3,
     "metadata": {},
     "output_type": "execute_result"
    }
   ],
   "source": [
    "import unicodecsv \n",
    "\n",
    "enrollments = []\n",
    "f = open('enrollments.csv', 'rb')\n",
    "reader = unicodecsv.DictReader(f)\n",
    "\n",
    "for row in reader:\n",
    "    enrollments.append(row)\n",
    "    \n",
    "f.close()\n",
    "enrollments[0]"
   ]
  },
  {
   "cell_type": "code",
   "execution_count": 4,
   "id": "109b0a22",
   "metadata": {},
   "outputs": [
    {
     "data": {
      "text/plain": [
       "{'account_key': '448',\n",
       " 'status': 'canceled',\n",
       " 'join_date': '2014-11-10',\n",
       " 'cancel_date': '2015-01-14',\n",
       " 'days_to_cancel': '65',\n",
       " 'is_udacity': 'True',\n",
       " 'is_canceled': 'True'}"
      ]
     },
     "execution_count": 4,
     "metadata": {},
     "output_type": "execute_result"
    }
   ],
   "source": [
    "import unicodecsv \n",
    "\n",
    "enrollments = []\n",
    "with open('enrollments.csv', 'rb') as f:\n",
    "    reader = unicodecsv.DictReader(f)\n",
    "    for row in reader:\n",
    "        enrollments.append(row)\n",
    "enrollments[0]"
   ]
  },
  {
   "cell_type": "code",
   "execution_count": 5,
   "id": "cf588f6d",
   "metadata": {},
   "outputs": [
    {
     "data": {
      "text/plain": [
       "{'account_key': '448',\n",
       " 'status': 'canceled',\n",
       " 'join_date': '2014-11-10',\n",
       " 'cancel_date': '2015-01-14',\n",
       " 'days_to_cancel': '65',\n",
       " 'is_udacity': 'True',\n",
       " 'is_canceled': 'True'}"
      ]
     },
     "execution_count": 5,
     "metadata": {},
     "output_type": "execute_result"
    }
   ],
   "source": [
    "import unicodecsv \n",
    "\n",
    "with open('enrollments.csv', 'rb') as f:\n",
    "    reader = unicodecsv.DictReader(f)\n",
    "    enrollments = list(reader) #this way i can an interator in a row without the loop\n",
    "\n",
    "enrollments[0]"
   ]
  },
  {
   "cell_type": "code",
   "execution_count": 12,
   "id": "7820501f",
   "metadata": {},
   "outputs": [
    {
     "data": {
      "text/plain": [
       "{'acct': '0',\n",
       " 'utc_date': '2015-01-09',\n",
       " 'num_courses_visited': '1.0',\n",
       " 'total_minutes_visited': '11.6793745',\n",
       " 'lessons_completed': '0.0',\n",
       " 'projects_completed': '0.0'}"
      ]
     },
     "execution_count": 12,
     "metadata": {},
     "output_type": "execute_result"
    }
   ],
   "source": [
    "import unicodecsv \n",
    "\n",
    "with open('daily_engagement.csv', 'rb') as h:\n",
    "    reader = unicodecsv.DictReader(h)\n",
    "    daily_engagement = list(reader) \n",
    "    \n",
    "daily_engagement[0]\n"
   ]
  },
  {
   "cell_type": "code",
   "execution_count": 3,
   "id": "78f56c48",
   "metadata": {},
   "outputs": [
    {
     "name": "stdout",
     "output_type": "stream",
     "text": [
      "{'account_key': '448', 'status': 'canceled', 'join_date': '2014-11-10', 'cancel_date': '2015-01-14', 'days_to_cancel': '65', 'is_udacity': 'True', 'is_canceled': 'True'}\n",
      "{'acct': '0', 'utc_date': '2015-01-09', 'num_courses_visited': '1.0', 'total_minutes_visited': '11.6793745', 'lessons_completed': '0.0', 'projects_completed': '0.0'}\n",
      "{'creation_date': '2015-01-14', 'completion_date': '2015-01-16', 'assigned_rating': 'UNGRADED', 'account_key': '256', 'lesson_key': '3176718735', 'processing_state': 'EVALUATED'}\n"
     ]
    }
   ],
   "source": [
    "import unicodecsv\n",
    "\n",
    "def read_csv(filename):\n",
    "    with open(filename, 'rb') as f:\n",
    "        reader = unicodecsv.DictReader(f) \n",
    "        return list(reader) \n",
    "\n",
    "enrollments = read_csv('enrollments.csv') \n",
    "daily_engagement = read_csv('daily_engagement.csv')\n",
    "project_submissions = read_csv('project_submissions.csv')\n",
    "\n",
    "print (enrollments[0])\n",
    "print (daily_engagement[0])\n",
    "print (project_submissions[0])\n"
   ]
  },
  {
   "cell_type": "code",
   "execution_count": 4,
   "id": "241d9c71",
   "metadata": {},
   "outputs": [
    {
     "name": "stdout",
     "output_type": "stream",
     "text": [
      "{'account_key': '448', 'status': 'canceled', 'join_date': '2014-11-05', 'cancel_date': '2014-11-10', 'days_to_cancel': '5', 'is_udacity': 'True', 'is_canceled': 'True'}\n",
      "{'acct': '0', 'utc_date': '2015-01-10', 'num_courses_visited': '2.0', 'total_minutes_visited': '37.2848873333', 'lessons_completed': '0.0', 'projects_completed': '0.0'}\n",
      "{'creation_date': '2015-01-10', 'completion_date': '2015-01-13', 'assigned_rating': 'INCOMPLETE', 'account_key': '256', 'lesson_key': '3176718735', 'processing_state': 'EVALUATED'}\n"
     ]
    }
   ],
   "source": [
    "import unicodecsv\n",
    "\n",
    "def read_csv(filename):\n",
    "    with open(filename, 'rb') as f:\n",
    "        reader = unicodecsv.DictReader(f) \n",
    "        return list(reader) \n",
    "\n",
    "enrollments = read_csv('enrollments.csv') \n",
    "daily_engagement = read_csv('daily_engagement.csv')\n",
    "project_submissions = read_csv('project_submissions.csv')\n",
    "\n",
    "print (enrollments[1])\n",
    "print (daily_engagement[1])\n",
    "print (project_submissions[1])"
   ]
  },
  {
   "cell_type": "code",
   "execution_count": null,
   "id": "d91410fa",
   "metadata": {},
   "outputs": [],
   "source": []
  }
 ],
 "metadata": {
  "kernelspec": {
   "display_name": "Python 3 (ipykernel)",
   "language": "python",
   "name": "python3"
  },
  "language_info": {
   "codemirror_mode": {
    "name": "ipython",
    "version": 3
   },
   "file_extension": ".py",
   "mimetype": "text/x-python",
   "name": "python",
   "nbconvert_exporter": "python",
   "pygments_lexer": "ipython3",
   "version": "3.9.7"
  }
 },
 "nbformat": 4,
 "nbformat_minor": 5
}
